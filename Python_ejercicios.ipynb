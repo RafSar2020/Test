{
  "nbformat": 4,
  "nbformat_minor": 0,
  "metadata": {
    "colab": {
      "provenance": [],
      "authorship_tag": "ABX9TyN382iIcTQeEDuAUZfTACmB",
      "include_colab_link": true
    },
    "kernelspec": {
      "name": "python3",
      "display_name": "Python 3"
    },
    "language_info": {
      "name": "python"
    }
  },
  "cells": [
    {
      "cell_type": "markdown",
      "metadata": {
        "id": "view-in-github",
        "colab_type": "text"
      },
      "source": [
        "<a href=\"https://colab.research.google.com/github/RafSar2020/Test/blob/main/Python_ejercicios.ipynb\" target=\"_parent\"><img src=\"https://colab.research.google.com/assets/colab-badge.svg\" alt=\"Open In Colab\"/></a>"
      ]
    },
    {
      "cell_type": "code",
      "execution_count": 8,
      "metadata": {
        "colab": {
          "base_uri": "https://localhost:8080/"
        },
        "id": "NU3CnogvQIEJ",
        "outputId": "a4eb1365-ad5d-4c51-dd57-5627332da189"
      },
      "outputs": [
        {
          "output_type": "stream",
          "name": "stdout",
          "text": [
            "7 horas, 9 minutos, 16 segundos\n"
          ]
        }
      ],
      "source": [
        "#Convertir una cantidad entera positiva de segundos en su equivalente en horas, minutos y segundos.\n",
        "s = 25756\n",
        "h = s // 3600\n",
        "m = (s % 3600) // 60\n",
        "seg = s % 60  # Calcula los segundos restantes\n",
        "\n",
        "print(f\"{h} horas, {m} minutos, {seg} segundos\")\n"
      ]
    },
    {
      "cell_type": "code",
      "source": [
        "#Determinar el máximo de dos enteros.\n",
        "a = 5\n",
        "b = 7\n",
        "if a > b:\n",
        "  print(True)\n",
        "else:\n",
        "  print(False)\n",
        "#ChatGPT\n",
        "c = 5\n",
        "d = 7\n",
        "max_value = max(c, d)\n",
        "print(max_value)\n"
      ],
      "metadata": {
        "colab": {
          "base_uri": "https://localhost:8080/"
        },
        "id": "UNFlpg-NWi9e",
        "outputId": "631a12ce-4929-43c9-ad0e-94e46ee29ac4"
      },
      "execution_count": 15,
      "outputs": [
        {
          "output_type": "stream",
          "name": "stdout",
          "text": [
            "False\n",
            "7\n"
          ]
        }
      ]
    },
    {
      "cell_type": "code",
      "source": [
        "#indicar si un entero es múltiplo de otro dado.\n",
        "a = 8\n",
        "b = 12573\n",
        "resto = b%a\n",
        "if resto == 0:\n",
        "  print(f\"El número \", \"b\", \"es múltiplo de \", \"a\")\n",
        "else:\n",
        "  print(f\"El número \", \"b\", \"no es múltiplo de \", \"a\")"
      ],
      "metadata": {
        "colab": {
          "base_uri": "https://localhost:8080/"
        },
        "id": "kYYvUnMXX1Kj",
        "outputId": "477eb7d3-3b04-40bc-b639-087e83dd3677"
      },
      "execution_count": 19,
      "outputs": [
        {
          "output_type": "stream",
          "name": "stdout",
          "text": [
            "El número  b no es múltiplo de  a\n"
          ]
        }
      ]
    },
    {
      "cell_type": "code",
      "source": [
        "#ChatGPT\n",
        "a = 8\n",
        "b = 12573\n",
        "\n",
        "if b % a == 0:\n",
        "    print(f\"El número {b} es múltiplo de {a}\")\n",
        "else:\n",
        "    print(f\"El número {b} no es múltiplo de {a}\")\n"
      ],
      "metadata": {
        "colab": {
          "base_uri": "https://localhost:8080/"
        },
        "id": "p54tIgDQZr91",
        "outputId": "21eaafaa-cd16-4873-bc30-750852915e11"
      },
      "execution_count": 18,
      "outputs": [
        {
          "output_type": "stream",
          "name": "stdout",
          "text": [
            "El número 12573 no es múltiplo de 8\n"
          ]
        }
      ]
    },
    {
      "cell_type": "code",
      "source": [
        "#Calcular el producto de dos enteros positivos.\n",
        "a = 5\n",
        "b = 6\n",
        "producto=a*b\n",
        "#El error en tu código es que estás pasando las cadenas de texto dentro de las comillas de formato f\"...\" sin usar llaves para insertar las variables correctamente. Debes ajustar la impresión de esta manera:\n",
        "print(f\"El producto de {a} por {b} es: {producto}\")"
      ],
      "metadata": {
        "colab": {
          "base_uri": "https://localhost:8080/"
        },
        "id": "28eXe13LZ4cj",
        "outputId": "dbea28c4-f47b-4eff-fdaf-5456397eb219"
      },
      "execution_count": 23,
      "outputs": [
        {
          "output_type": "stream",
          "name": "stdout",
          "text": [
            "El producto de 5 por 6 es: 30\n"
          ]
        }
      ]
    },
    {
      "cell_type": "code",
      "source": [
        "#'''Dadas las cadenas cadena1 y cadena2, cadena1 = “Hola, estoy aprendiendo Python”; cadena2 = “Y trabajando con strings”; realiza las siguientes operaciones: − muestre la longitud de esa cadena;\n",
        "# concaténalas juntas e imprime el resultado; imprima esa cadena en orden inverso; cuenta cuántas veces aparece el carácter ‘a’ en la cadena; muestre dos versiones de la cadena: una en mayúsculas y otra en minúsculas'''\n",
        "cadena1 = \"Hola, estoy aprendiendo Python\"\n",
        "cadena2 = \"Y trabajando con strings\"\n",
        "\n",
        "# Muestra la longitud de las cadenas\n",
        "print(\"La longitud de la cadena 1 es:\", len(cadena1))\n",
        "print(\"La longitud de la cadena 2 es:\", len(cadena2))\n",
        "\n",
        "# Concatena las cadenas\n",
        "concatenacion = cadena1 + \" e \" + cadena2\n",
        "print(\"Las dos cadenas concatenadas son:\", concatenacion)\n",
        "\n",
        "# Imprime la cadena en orden inverso\n",
        "inverso = concatenacion[::-1]\n",
        "print(\"La cadena en orden inverso es:\", inverso)\n",
        "\n",
        "# Cuenta cuántas veces aparece el carácter 'a' en la cadena concatenada\n",
        "contador_a = concatenacion.count('a')\n",
        "print(\"El carácter 'a' aparece\", contador_a, \"veces en la cadena concatenada.\")\n",
        "\n",
        "# Muestra dos versiones de la cadena: una en mayúsculas y otra en minúsculas\n",
        "concatenacion_mayusculas = concatenacion.upper()\n",
        "concatenacion_minusculas = concatenacion.lower()\n",
        "print(\"La cadena en mayúsculas:\", concatenacion_mayusculas)\n",
        "print(\"La cadena en minúsculas:\", concatenacion_minusculas)\n",
        "\n",
        "#OTRA OPCIÓN PARA CONTAR EL NÚMERO DE \"aes\"\n",
        "cadena1 = \"Hola, estoy aprendiendo Python\"\n",
        "cadena2 = \"Y trabajando con strings\"\n",
        "concatenacion = cadena1 + \" e \" + cadena2\n",
        "\n",
        "# Contador de 'a's\n",
        "contador_a = 0\n",
        "\n",
        "# Itera a través de la cadena concatenada\n",
        "for caracter in concatenacion:\n",
        "    if caracter == 'a':\n",
        "        contador_a += 1\n",
        "\n",
        "print(\"El número de veces que 'a' aparece en la cadena concatenada es:\", contador_a)\n",
        "\n",
        "#Para que las cadenas aparezcan entrecomilladas:\n",
        "cadena1 = \"Hola, estoy aprendiendo Python\"\n",
        "cadena2 = \"Y trabajando con strings\"\n",
        "\n",
        "# Concatenar ambas cadenas con comillas\n",
        "cadena_concatenada = f'\"{cadena1}\" y \"{cadena2}\"'\n",
        "\n",
        "print(cadena_concatenada)\n",
        "\n",
        "#Este de abajo es mi script original\n",
        "cadena1 = \"Hola, estoy aprendiendo Python\"\n",
        "cadena2 = \"Y trabajando con strings\"\n",
        "concatenacion = cadena1 + \" e \" + cadena2\n",
        "for i in concatenacion:\n",
        "  count(\"a\")\n",
        "concatenacionM = concatenacion.upper\n",
        "concatenacionm = concatenacion.lower\n",
        "print(\"La longitud de la cadena 1 es: \", len(cadena1))\n",
        "print(\"La longitud de la cadena 2 es: \", len(cadena2))\n",
        "print(\"Las dos cadenas concatenadas son: \", concatenacion)\n",
        "print(concatenacionM)\n",
        "print(concatenacionm)\n",
        ""
      ],
      "metadata": {
        "colab": {
          "base_uri": "https://localhost:8080/",
          "height": 401
        },
        "id": "fho7ESUonUuF",
        "outputId": "07450ca4-fcf7-44de-abcd-2a616f9cbd23"
      },
      "execution_count": 42,
      "outputs": [
        {
          "output_type": "stream",
          "name": "stdout",
          "text": [
            "La longitud de la cadena 1 es: 30\n",
            "La longitud de la cadena 2 es: 24\n",
            "Las dos cadenas concatenadas son: Hola, estoy aprendiendo Python e Y trabajando con strings\n",
            "La cadena en orden inverso es: sgnirts noc odnajabart Y e nohtyP odneidnerpa yotse ,aloH\n",
            "El carácter 'a' aparece 5 veces en la cadena concatenada.\n",
            "La cadena en mayúsculas: HOLA, ESTOY APRENDIENDO PYTHON E Y TRABAJANDO CON STRINGS\n",
            "La cadena en minúsculas: hola, estoy aprendiendo python e y trabajando con strings\n",
            "El número de veces que 'a' aparece en la cadena concatenada es: 5\n",
            "\"Hola, estoy aprendiendo Python\" y \"Y trabajando con strings\"\n"
          ]
        },
        {
          "output_type": "error",
          "ename": "NameError",
          "evalue": "ignored",
          "traceback": [
            "\u001b[0;31m---------------------------------------------------------------------------\u001b[0m",
            "\u001b[0;31mNameError\u001b[0m                                 Traceback (most recent call last)",
            "\u001b[0;32m<ipython-input-42-e5a0ee513f40>\u001b[0m in \u001b[0;36m<cell line: 56>\u001b[0;34m()\u001b[0m\n\u001b[1;32m     55\u001b[0m \u001b[0mconcatenacion\u001b[0m \u001b[0;34m=\u001b[0m \u001b[0mcadena1\u001b[0m \u001b[0;34m+\u001b[0m \u001b[0;34m\" e \"\u001b[0m \u001b[0;34m+\u001b[0m \u001b[0mcadena2\u001b[0m\u001b[0;34m\u001b[0m\u001b[0;34m\u001b[0m\u001b[0m\n\u001b[1;32m     56\u001b[0m \u001b[0;32mfor\u001b[0m \u001b[0mi\u001b[0m \u001b[0;32min\u001b[0m \u001b[0mconcatenacion\u001b[0m\u001b[0;34m:\u001b[0m\u001b[0;34m\u001b[0m\u001b[0;34m\u001b[0m\u001b[0m\n\u001b[0;32m---> 57\u001b[0;31m   \u001b[0mcount\u001b[0m\u001b[0;34m(\u001b[0m\u001b[0;34m\"a\"\u001b[0m\u001b[0;34m)\u001b[0m\u001b[0;34m\u001b[0m\u001b[0;34m\u001b[0m\u001b[0m\n\u001b[0m\u001b[1;32m     58\u001b[0m \u001b[0mconcatenacionM\u001b[0m \u001b[0;34m=\u001b[0m \u001b[0mconcatenacion\u001b[0m\u001b[0;34m.\u001b[0m\u001b[0mupper\u001b[0m\u001b[0;34m\u001b[0m\u001b[0;34m\u001b[0m\u001b[0m\n\u001b[1;32m     59\u001b[0m \u001b[0mconcatenacionm\u001b[0m \u001b[0;34m=\u001b[0m \u001b[0mconcatenacion\u001b[0m\u001b[0;34m.\u001b[0m\u001b[0mlower\u001b[0m\u001b[0;34m\u001b[0m\u001b[0;34m\u001b[0m\u001b[0m\n",
            "\u001b[0;31mNameError\u001b[0m: name 'count' is not defined"
          ]
        }
      ]
    },
    {
      "cell_type": "code",
      "source": [
        "#Guardar dos números en variables, compara si uno es mayor que el otro e imprime el resultado por pantalla.\n",
        "a = 1234589987\n",
        "b = 89450098564\n",
        "r = a-b\n",
        "if a > b:\n",
        "  print(r)\n",
        "else:\n",
        "  print(f'{a} no es mayor que {b}')"
      ],
      "metadata": {
        "colab": {
          "base_uri": "https://localhost:8080/"
        },
        "id": "a7568xaKtEAY",
        "outputId": "c78ce399-1979-4ae9-e46d-b30e108d9165"
      },
      "execution_count": 46,
      "outputs": [
        {
          "output_type": "stream",
          "name": "stdout",
          "text": [
            "1234589987 no es mayor que 89450098564\n"
          ]
        }
      ]
    },
    {
      "cell_type": "code",
      "source": [
        "#Verificar Paridad. Dado un número, el programa debe imprimir True si el número es par y False si es impar.\n",
        "a =23\n",
        "if a%2 == 0:\n",
        "  print(f'El número {a} es par')\n",
        "else:\n",
        "  print(f'El número {a} es impar')"
      ],
      "metadata": {
        "colab": {
          "base_uri": "https://localhost:8080/"
        },
        "id": "ake5uj_ExDk3",
        "outputId": "5c7914b1-5017-4c74-cc2a-af59f0931780"
      },
      "execution_count": 48,
      "outputs": [
        {
          "output_type": "stream",
          "name": "stdout",
          "text": [
            "El número 23 es impar\n"
          ]
        }
      ]
    },
    {
      "cell_type": "code",
      "source": [
        "from IPython.core.application import BaseIPythonApplication\n",
        "#Dadas dos cadenas de caracteres, debe imprimir True si son iguales y False si no lo son (ten en cuenta que las comparaciones son sensibles a mayúsculas y minúsculas). Ahora repite el ejercicio sin tener en cuenta las mayúsculas o minúsculas.\n",
        "cadena1=\"jñafaisjfdaldfñjasdfajdfa\"\n",
        "cadena2=\"pjaoafpajdfañfjasdñfjasd\"\n",
        "cadena3=\"EL PIJAMA ES BONITO\"\n",
        "cadena4=\"el pijama es bonito\"\n",
        "if cadena1 == cadena2:\n",
        "  print(f'La cadena 1 es la misma que la cadena 2')\n",
        "else:\n",
        "  print(f'La cadena 1 NO es la misma que la cadena 2')\n",
        "if cadena3 == cadena4:\n",
        "  print(f'La cadena 3 es la misma que la cadena 4')\n",
        "else:\n",
        "  print(f'La cadena 3 NO es la misma que la cadena 4')\n",
        "if cadena3.lower() == cadena4:\n",
        "  print(f'La cadena 3 en minúsculas es la misma que la cadena 4')\n",
        "else:\n",
        "    print(f'La cadena 3 en minúsculas NO es la misma que la cadena 4')\n",
        "cadena3b = cadena3.lower()\n",
        "print(cadena3b)\n",
        "#CHATGPT: El error en tu código es que estás utilizando .lower como un atributo, cuando en realidad es un método\n",
        "cadena3 = \"EL PIJAMA ES BONITO\"\n",
        "cadena4 = \"el pijama es bonito\"\n",
        "\n",
        "if cadena3.lower() == cadena4:\n",
        "    print('La cadena 3 en minúsculas es la misma que la cadena 4')\n",
        "else:\n",
        "    print('La cadena 3 en minúsculas NO es la misma que la cadena 4')\n",
        "\n",
        "cadena3b = cadena3.lower()  # Corregido\n",
        "print(cadena3b)\n"
      ],
      "metadata": {
        "colab": {
          "base_uri": "https://localhost:8080/"
        },
        "id": "TmAzNaiyx4Pe",
        "outputId": "ea4ba929-4747-4a65-ff24-507662925baf"
      },
      "execution_count": 62,
      "outputs": [
        {
          "output_type": "stream",
          "name": "stdout",
          "text": [
            "La cadena 1 NO es la misma que la cadena 2\n",
            "La cadena 3 NO es la misma que la cadena 4\n",
            "La cadena 3 en minúsculas es la misma que la cadena 4\n",
            "el pijama es bonito\n",
            "La cadena 3 en minúsculas es la misma que la cadena 4\n",
            "el pijama es bonito\n"
          ]
        }
      ]
    },
    {
      "cell_type": "code",
      "source": [
        "#Escribe un programa que defina dos tuplas con números enteros y las concatene.\n",
        "t1= (1,2,3)\n",
        "t2= (4,5,6)\n",
        "concatenar= t1 + t2\n",
        "print(concatenar)"
      ],
      "metadata": {
        "colab": {
          "base_uri": "https://localhost:8080/"
        },
        "id": "D6DEWFXIERvc",
        "outputId": "4511408d-7816-4094-b2de-9bd7cfbaf62d"
      },
      "execution_count": 64,
      "outputs": [
        {
          "output_type": "stream",
          "name": "stdout",
          "text": [
            "(1, 2, 3, 4, 5, 6)\n"
          ]
        }
      ]
    },
    {
      "cell_type": "code",
      "source": [
        "#Crea una tupla de cinco valores e imprime el mayor número y el menor.\n",
        "t1 = (1,2,3,4,5)\n",
        "maximo=max(t1)\n",
        "minimo=min(t1)\n",
        "print(maximo)\n",
        "print(minimo)"
      ],
      "metadata": {
        "colab": {
          "base_uri": "https://localhost:8080/"
        },
        "id": "Zo-pnly3FHuB",
        "outputId": "b8d199b7-2c41-4739-9c4e-187da33b7b3e"
      },
      "execution_count": 70,
      "outputs": [
        {
          "output_type": "stream",
          "name": "stdout",
          "text": [
            "5\n",
            "1\n"
          ]
        }
      ]
    },
    {
      "cell_type": "code",
      "source": [
        "#Crea una tupla de cinco palabras e invierte el orden de las palabras en la tupla y muestra la tupla resultante\n",
        "t1 = (\"perro\", \"gato\", \"paloma\", \"pollo\", \"rana\")\n",
        "t1_reves = tuple(reversed(t1))\n",
        "print(t1_reves)"
      ],
      "metadata": {
        "colab": {
          "base_uri": "https://localhost:8080/"
        },
        "id": "OPyyLwF8L2d7",
        "outputId": "eb071c20-ef7f-4d54-b4c1-91bcac303649"
      },
      "execution_count": 73,
      "outputs": [
        {
          "output_type": "stream",
          "name": "stdout",
          "text": [
            "('rana', 'pollo', 'paloma', 'gato', 'perro')\n"
          ]
        }
      ]
    },
    {
      "cell_type": "code",
      "source": [
        "#Suma de Elementos en una Lista: Escribe un programa que sume todos los elementos de una lista de números enteros y luego muestre el resultado.\n",
        "lista1=[1, 57, 84, 25, 33]\n",
        "total1=lista1[0]+lista1[1]+lista1[2]+lista1[3]+lista1[4]\n",
        "print(total1)\n",
        "#Otra forma (chatty)\n",
        "lista1 = [1, 57, 84, 25, 33]\n",
        "total = 0  # Inicializamos una variable para llevar la suma.\n",
        "\n",
        "for num in lista1:\n",
        "    total += num  # Sumamos cada número a la variable total.\n",
        "\n",
        "print(\"La suma de los elementos en la lista es:\", total)\n",
        "#Otra forma\n",
        "lista1 = [1, 57, 84, 25, 33]\n",
        "total = sum(lista1)\n",
        "\n",
        "print(\"La suma de los elementos en la lista es:\", total)\n"
      ],
      "metadata": {
        "colab": {
          "base_uri": "https://localhost:8080/"
        },
        "id": "GH9fWic7UVf8",
        "outputId": "96730be4-9b45-4661-c6a2-c60649ee608d"
      },
      "execution_count": 1,
      "outputs": [
        {
          "output_type": "stream",
          "name": "stdout",
          "text": [
            "200\n",
            "La suma de los elementos en la lista es: 200\n",
            "La suma de los elementos en la lista es: 200\n"
          ]
        }
      ]
    },
    {
      "cell_type": "code",
      "source": [
        "#Encontrar el Mayor y el Menor en una Lista con valores numéricos\n",
        "lista1=[1, 57, 84, 25, 33]\n",
        "a = max(lista1)\n",
        "b = min(lista1)\n",
        "print(a)"
      ],
      "metadata": {
        "colab": {
          "base_uri": "https://localhost:8080/"
        },
        "id": "Fqu9Rm8JWfln",
        "outputId": "f5c12e11-fab1-4eda-b1b9-568f536529d6"
      },
      "execution_count": 6,
      "outputs": [
        {
          "output_type": "stream",
          "name": "stdout",
          "text": [
            "84\n"
          ]
        }
      ]
    },
    {
      "cell_type": "code",
      "source": [
        "#Ordenar una Lista de Palabras: Crea con una lista de palabras y luego ordene la lista alfabéticamente y la muestre.\n",
        "lista234=[\"perro\", \"gato\", \"paloma\", \"pollo\", \"rana\"]\n",
        "lista234.sort()\n",
        "print(lista234)"
      ],
      "metadata": {
        "colab": {
          "base_uri": "https://localhost:8080/"
        },
        "id": "dVrIIsnTXwR8",
        "outputId": "9546d84b-fa8e-42c5-b2df-f2f3764bb982"
      },
      "execution_count": 10,
      "outputs": [
        {
          "output_type": "stream",
          "name": "stdout",
          "text": [
            "['gato', 'paloma', 'perro', 'pollo', 'rana']\n"
          ]
        }
      ]
    },
    {
      "cell_type": "code",
      "source": [
        "#Crea una lista automática, que vaya del 1 al 33 con salto tres y:\n",
        "lista101 = list(range(1, 34, 3))\n",
        "print(lista101)\n",
        "#range(1, 34, 3) crea un objeto de rango que comienza en 1, termina antes de llegar a 34 y avanza en incrementos de 3. Esto genera una secuencia de números [1, 4, 7, 10, ..., 31] que son divisibles por 3."
      ],
      "metadata": {
        "colab": {
          "base_uri": "https://localhost:8080/"
        },
        "id": "xnCgIT86Zn2y",
        "outputId": "898d846e-2bc5-45cb-fb9b-e7f00af76a70"
      },
      "execution_count": 12,
      "outputs": [
        {
          "output_type": "stream",
          "name": "stdout",
          "text": [
            "[1, 4, 7, 10, 13, 16, 19, 22, 25, 28, 31]\n"
          ]
        }
      ]
    }
  ]
}